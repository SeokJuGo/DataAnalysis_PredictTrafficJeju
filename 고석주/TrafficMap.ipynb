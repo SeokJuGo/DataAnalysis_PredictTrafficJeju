{
 "cells": [
  {
   "cell_type": "code",
   "execution_count": null,
   "id": "fc81438a",
   "metadata": {},
   "outputs": [],
   "source": [
    "from tqdm import tqdm"
   ]
  },
  {
   "cell_type": "code",
   "execution_count": null,
   "id": "91d06ab0",
   "metadata": {},
   "outputs": [],
   "source": [
    "vel_low_idx = gps.loc[gps['target']<15].index # 시내 교통 체증기준 10 km/h 미만\n",
    "vel_high_idx = gps.loc[gps['target']>80].index # 고속도로 원활기준 80 km/h 초과"
   ]
  },
  {
   "cell_type": "code",
   "execution_count": null,
   "id": "cc0b4e40",
   "metadata": {},
   "outputs": [],
   "source": [
    "\n",
    "f, ax = plt.subplots(figsize=(21,10))\n",
    "\n",
    "ax.set_xlim(gps_set[0], gps_set[1])\n",
    "ax.set_ylim(gps_set[2], gps_set[3])\n",
    "\n",
    "image = plt.imread('map2.png')\n",
    "ax.imshow(image, zorder=0, extent=gps_set, aspect='equal')\n",
    "\n",
    "for i in tqdm(vel_low_idx): # 교통 체증 도로 빨강\n",
    "    x_1 = gps.loc[i,'start_longitude']\n",
    "    x_2 = gps.loc[i,'end_longitude'] \n",
    "    y_1 = gps.loc[i,'start_latitude']\n",
    "    y_2 = gps.loc[i,'end_latitude'] \n",
    "    ax.plot([x_1, x_2], [y_1, y_2], color='red')\n",
    "\n",
    "for i in tqdm(vel_high_idx): # 교통 원활 도로 파랑\n",
    "    x_1 = gps.loc[i,'start_longitude']\n",
    "    x_2 = gps.loc[i,'end_longitude'] \n",
    "    y_1 = gps.loc[i,'start_latitude']\n",
    "    y_2 = gps.loc[i,'end_latitude'] \n",
    "    ax.plot([x_1, x_2], [y_1, y_2], color='blue')\n",
    "\n",
    "plt.show()"
   ]
  }
 ],
 "metadata": {
  "kernelspec": {
   "display_name": "Python 3 (ipykernel)",
   "language": "python",
   "name": "python3"
  },
  "language_info": {
   "codemirror_mode": {
    "name": "ipython",
    "version": 3
   },
   "file_extension": ".py",
   "mimetype": "text/x-python",
   "name": "python",
   "nbconvert_exporter": "python",
   "pygments_lexer": "ipython3",
   "version": "3.9.12"
  }
 },
 "nbformat": 4,
 "nbformat_minor": 5
}
